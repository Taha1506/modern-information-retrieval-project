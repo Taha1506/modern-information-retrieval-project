{
  "cells": [
    {
      "cell_type": "markdown",
      "metadata": {
        "pycharm": {
          "name": "#%% md\n"
        },
        "id": "VoMyf5XPI3vc"
      },
      "source": [
        "<div style=\"direction:rtl;line-height:300%;\">\n",
        "<font face=\"XB Zar\" size=5>\n",
        "<div align=center>\n",
        "<font face=\"B Titr\" size=5>\n",
        "<p></p><p></p>\n",
        "بسمه تعالی\n",
        "<p></p>\n",
        "</font>\n",
        "<p></p>\n",
        "<font>\n",
        "<br>\n",
        "درس بازیابی پیشرفته اطلاعات\n",
        "<br>\n",
        "مدرس: دکتر سلیمانی\n",
        "</font>\n",
        "<p></p>\n",
        "<br>\n",
        "<font>\n",
        "<b>فاز سوم پروژه</b>\n",
        "</font>\n",
        "<br>\n",
        "<br>\n",
        "موعد تحویل:  ساعت ۶ صبح ۸ تیر<br>\n",
        "<br>\n",
        "<br>\n",
        "<br>\n",
        "<font>\n",
        "دانشگاه صنعتی شریف\n",
        "<br>\n",
        "دانشکده مهندسی کامپیوتر\n",
        "<br>\n",
        "<br>\n",
        "</font>\n",
        "</div>\n",
        "</font>\n",
        "</div>"
      ]
    },
    {
      "cell_type": "markdown",
      "metadata": {
        "pycharm": {
          "name": "#%% md\n"
        },
        "id": "GjZgED5wI3vo"
      },
      "source": [
        "<div dir=\"rtl\">\n",
        "<font face=\"XB Zar\" size=5>\n",
        "    <h1>\n",
        "    <b>مقدمه</b>\n",
        "    </h1>\n",
        "    <p></p>\n",
        "    <p></p>\n",
        "</font>\n",
        "<font face=\"XB Zar\" size=3>\n",
        "     <br>\n",
        "    در این فاز از پروژه، تمرکز ما بر\n",
        "    crawling\n",
        "    و تحلیل مقالات استخراج‌شده از اینترنت خواهد بود. ما با بررسی تکنیک های مختلف  \n",
        "    web crawling\n",
        "    برای استخراج مقالات و سایر اطلاعات مرتبط از وب شروع خواهیم کرد.\n",
        "    <br>\n",
        "    در مرحله بعد، الگوریتم های تجزیه و تحلیل  لینک مانند\n",
        "    PageRank\n",
        "    و\n",
        "    HITS\n",
        "    را برای تعیین اهمیت این مقالات بر اساس نقل قول‌ها، ارجاعات یا اشکال دیگر پیوندها اعمال خواهیم‌کرد. ما همچنین یاد خواهیم‌گرفت که چگونه یک الگوریتم\n",
        "    PageRank\n",
        "    شخصی‌سازی‌شده را پیاده‌سازی کنیم که ترجیحات کاربر را برای ارائه نتایج مرتبط تر در نظر می‌گیرد.\n",
        "    <br>\n",
        "    در بخش سوم این مرحله، یک موتور جستجوی شخصی‌سازی شده را پیاده‌سازی میکنیم و یاد می‌گیریم که چگونه موتور جستجویی بسازیم که نتایجی را بر اساس ترجیحات کاربر ارائه دهد.\n",
        "    <br>\n",
        "در نهایت، ما یک\n",
        "    task\n",
        "     در مورد\n",
        "    recommendation system\n",
        "    ها خواهیم‌داشت، که در آن از تکنیک های مختلف برای توصیه مقالات یا صفحات وب به کاربران بر اساس ترجیحات و رفتار آنها استفاده خواهیم کرد.\n",
        "    <br>\n",
        "     تنها زبان قابل قبول برای پروژه پایتون است. محدودیت استفاده از کتاب‌خانه‌های آماده در هر بخش مشخص شده است. در انتهای پروژه قرار است یک سیستم یکپارچه‌ی جست‌و‌جو داشته باشید، بنابراین به پیاده‌سازی هر چه بهتر این فاز توجه داشته باشید.\n",
        "</font>\n",
        "</div>\n",
        "   "
      ]
    },
    {
      "cell_type": "markdown",
      "metadata": {
        "pycharm": {
          "name": "#%% md\n"
        },
        "id": "ILOBbUI-I3vr"
      },
      "source": [
        "<div dir=\"rtl\">\n",
        "<font face=\"XB Zar\" size=4>\n",
        "    <h1>\n",
        "    <b>پیاده‌سازی Crawler (۴۰ نمره)</b>\n",
        "    </h1>\n",
        "</font>\n",
        "    <br>\n",
        "\n",
        "<font face=\"XB Zar\" size=3>\n",
        "   در این بخش باید یک Crawler\n",
        "    برای واکشی اطلاعات تعدادی مقاله از سایت <a href=\"https://www.semanticscholar.org/\">Semantic Scholar</a> پیاده سازی کنید.\n",
        "   اطلاعات واکشی شده باید حاوی موارد زیر باشد.\n",
        "</font>\n",
        "</div>\n",
        "<br>\n",
        "<table dir=\"ltr\" style=\"width: 100%; border-collapse: collapse;\">\n",
        "  <tr>\n",
        "    <th style=\"padding: 8px; text-align: justify; border: 1px solid black;\">ID</th>\n",
        "    <th style=\"padding: 8px; text-align: justify; border: 1px solid black;\">Title</th>\n",
        "    <th style=\"padding: 8px; text-align: justify; border: 1px solid black;\">Abstract</th>\n",
        "    <th style=\"padding: 8px; text-align: justify; border: 1px solid black;\">Publication Year</th>\n",
        "    <th style=\"padding: 8px; text-align: justify; border: 1px solid black;\">Authors</th>\n",
        "    <th style=\"padding: 8px; text-align: justify; border: 1px solid black;\">Related Topics</th>\n",
        "    <th style=\"padding: 8px; text-align: justify; border: 1px solid black;\">Citation Count</th>\n",
        "    <th style=\"padding: 8px; text-align: justify; border: 1px solid black;\">Reference Count</th>\n",
        "    <th style=\"padding: 8px; text-align: justify; border: 1px solid black;\">References</th>\n",
        "  </tr>\n",
        "  <tr>\n",
        "    <td style=\"padding: 8px; text-align: justify; border: 1px solid black;\">Unique ID of the paper</td>\n",
        "    <td style=\"padding: 8px; text-align: justify; border: 1px solid black;\">Title of the paper</td>\n",
        "    <td style=\"padding: 8px; text-align: justify; border: 1px solid black;\">Abstract of the paper</td>\n",
        "    <td style=\"padding: 8px; text-align: justify; border: 1px solid black;\">Publication year</td>\n",
        "    <td style=\"padding: 8px; text-align: justify; border: 1px solid black;\">Name of the first author, ..., Name of the last author</td>\n",
        "    <td style=\"padding: 8px; text-align: justify; border: 1px solid black;\">topic1, topic2, ...</td>\n",
        "    <td style=\"padding: 8px; text-align: justify; border: 1px solid black;\">number of citations of the paper</td>\n",
        "    <td style=\"padding: 8px; text-align: justify; border: 1px solid black;\">number of references of the paper</td>\n",
        "    <td style=\"padding: 8px; text-align: justify; border: 1px solid black;\">ID of the first reference, ..., ID of the tenth reference</td>\n",
        "  </tr>\n",
        "</table>\n",
        "    <br>"
      ]
    },
    {
      "cell_type": "markdown",
      "metadata": {
        "pycharm": {
          "name": "#%% md\n"
        },
        "id": "Wv-d6pdnI3vt"
      },
      "source": [
        "<div dir=\"rtl\">\n",
        "\n",
        "<font face=\"XB Zar\" size=3>\n",
        "  ابتدا فرایند واکشی را از ۵ مقاله‌ی هر استاد شروع کنید و\n",
        "    ۱۰\n",
        "    مرجع اول هر مقاله را به صف مقالات اضافه کنید.\n",
        "    فرایند واکشی را نا جایی ادامه دهید که اطلاعات ۲۰۰۰ مقاله را داشته باشید.\n",
        "    اطلاعات مقالات را در فایل crawled_paper_profName.json ذخیره کنید.\n",
        "</font>\n",
        "</div>\n",
        "\n",
        "<div dir=\"rtl\">\n",
        "\n",
        "<font face=\"XB Zar\" size=3>\n",
        "  در پیاده سازی Crawler به موارد زیر دقت کنید.\n",
        "    \n",
        "    \n",
        "<ul>\n",
        "<li>حق استفاده از api سایت semantic scholar را ندارید.</li>\n",
        "<li>برای واکشی می‌توانید از پکیج‌هایی مثل <a href=\"https://www.selenium.dev/selenium/docs/api/py/\">Selenium</a> و یا <a href=\"https://github.com/scrapy/scrapy\">Scrapy</a>  استفاده کنید. استفاده از پکیج‌های دیگر نیز مجاز است. همچنین برای پارس اطلاعات واکشی شده می‌توانید از پکیج <a href=\"https://pypi.org/project/beautifulsoup4/\">Beautiful Soup</a> استفاده کنید.\n",
        "</li>\n",
        "<li>بین هر بار درخواست از سایت یک فاصله چند ثانیه‌ای بدهید.</li>\n",
        "<li>در زمان تحویل کد Crawler شما اجرا خواهد شد و صحت آن بررسی خواهد شد.</li>\n",
        "<li>در صورتی که ‌Crawler شما به دچار اروری مثل request timeout شد نباید کار خود را متوقف کند.</li>\n",
        "</ul>\n",
        "\n",
        "\n",
        "</font>\n",
        "</div>"
      ]
    },
    {
      "cell_type": "markdown",
      "metadata": {
        "pycharm": {
          "name": "#%% md\n"
        },
        "id": "-FhByVKYI3vx"
      },
      "source": [
        "<div dir=\"rtl\">\n",
        "<font face=\"XB Zar\" size=4>\n",
        "    <h1>\n",
        "    <b>PageRank\n",
        "        شخصی‌سازی‌شده\n",
        "        (۲۰ نمره)</b>\n",
        "    </h1>\n",
        "</font>\n",
        "    <br>\n",
        "<font face=\"XB Zar\" size=3>\n",
        "در این بخش، الگوریتم\n",
        "    PageRank\n",
        "    شخصی‌سازی‌شده را پیاده‌سازی می‌کنیم که توسعه‌ای از الگوریتم\n",
        "    PageRank\n",
        "    است که ترجیحات کاربر را در نظر می‌گیرد. الگوریتم\n",
        "    PageRank\n",
        "    شخصی‌سازی‌شده گره‌ها را در یک گراف بر اساس اهمیت آنها برای کاربر رتبه‌بندی می‌کند، نه بر اساس اهمیت کلی آنها در نمودار.\n",
        "    \n",
        "</font>\n",
        "</div>"
      ]
    },
    {
      "cell_type": "code",
      "source": [
        "import numpy as np\n",
        "from typing import Dict, List\n",
        "from json import load"
      ],
      "metadata": {
        "id": "rzIFRDX3_TEp"
      },
      "execution_count": 1,
      "outputs": []
    },
    {
      "cell_type": "code",
      "execution_count": 4,
      "metadata": {
        "pycharm": {
          "name": "#%%\n"
        },
        "id": "nuCgakU1I3v2"
      },
      "outputs": [],
      "source": [
        "def pagerank(graph: Dict[str, List[str]]) -> Dict[str, float]:\n",
        "    \"\"\"\n",
        "    Returns the personalized PageRank scores for the nodes in the graph, given the user's preferences.\n",
        "\n",
        "    Parameters:\n",
        "    graph (Dict[str, List[str]]): The graph represented as a dictionary of node IDs and their outgoing edges.\n",
        "\n",
        "    Returns:\n",
        "    Dict[str, float]: A dictionary of node IDs and their personalized PageRank scores.\n",
        "    \"\"\"\n",
        "    graph_size = len(graph)\n",
        "\n",
        "    # convert nodes to numbers\n",
        "    indices = dict()\n",
        "    inverse_indices = dict()\n",
        "    for i, node in enumerate(graph.keys()):\n",
        "      indices[node] = i\n",
        "      inverse_indices[i] = node\n",
        "\n",
        "    # create adjacency matrix\n",
        "    adj = np.zeros((graph_size, graph_size))\n",
        "    for key, value in graph.items():\n",
        "      if len(value) == 0:\n",
        "        adj[indices[key]] = np.ones(graph_size) / graph_size\n",
        "      else:\n",
        "        adj[indices[key], [indices[neighbor] for neighbor in value]] = 1 / len(value)\n",
        "        adj[indices[key]] = adj[indices[key]] * 0.9 + np.ones(graph_size) * 0.1 / graph_size\n",
        "\n",
        "    # raise the matrix to power\n",
        "    probabilities = np.linalg.matrix_power(adj, 100)[0]\n",
        "\n",
        "    # conver to id's\n",
        "    return {inverse_indices[i]: probabilities[i] for i in range(graph_size)}"
      ]
    },
    {
      "cell_type": "markdown",
      "metadata": {
        "pycharm": {
          "name": "#%% md\n"
        },
        "id": "Lrx5jqPEI3v6"
      },
      "source": [
        "<div dir=\"rtl\">\n",
        "<font face=\"XB Zar\" size=3>\n",
        "در این بخش از الگوریتم\n",
        "PageRank\n",
        "شخصی‌سازی‌شده که در قسمت قبلی پیاده‌سازی شده‌است برای\n",
        "شناسایی مقالات مهم مرتبط با حوزه‌ی کاری یک استاد\n",
        "خاص استفاده می‌کنیم. این تابع، یک\n",
        "    field\n",
        "    را به عنوان ورودی دریافت می‌کند. خروجی نیز\n",
        "مقالات برتری که بیشترین ارتباط را با آن زمینه دارند؛ خواهدبود.\n",
        "</font>\n",
        "</div>"
      ]
    },
    {
      "cell_type": "code",
      "execution_count": 5,
      "metadata": {
        "pycharm": {
          "name": "#%%\n"
        },
        "colab": {
          "base_uri": "https://localhost:8080/"
        },
        "id": "ytStHHyBI3v7",
        "outputId": "47bf51c5-4a05-4c83-f1ca-f212bdccc52c"
      },
      "outputs": [
        {
          "output_type": "execute_result",
          "data": {
            "text/plain": [
              "['Markov random field for tumor detection in digital mammography',\n",
              " 'Visual Tracking: An Experimental Survey',\n",
              " 'A survey of appearance models in visual object tracking',\n",
              " 'Automated seeded lesion segmentation on digital mammograms',\n",
              " 'Online Object Tracking: A Benchmark']"
            ]
          },
          "metadata": {},
          "execution_count": 5
        }
      ],
      "source": [
        "def important_articles(Professor: str) -> List[str]:\n",
        "    \"\"\"\n",
        "    Returns the most important articles in the field of given professor, based on the personalized PageRank scores.\n",
        "\n",
        "    Parameters:\n",
        "    Professor (str): Professor's name.\n",
        "\n",
        "    Returns:\n",
        "    List[str]: A list of article IDs representing the most important articles in the field of given professor.\n",
        "    \"\"\"\n",
        "    papers = load(open(f'crawled_paper_{Professor}.txt'))\n",
        "\n",
        "    # create the graph\n",
        "    graph = dict()\n",
        "    nodes = {paper['title'] for paper in papers}\n",
        "    for paper in papers:\n",
        "      graph[paper['title']] = [reference for reference in paper['references'] if reference in nodes]\n",
        "\n",
        "    # get the page rank\n",
        "    rank = pagerank(graph)\n",
        "\n",
        "    # sort and return the top articles\n",
        "    rank_list = [(paper, score) for paper, score in rank.items()]\n",
        "    rank_list.sort(key=lambda x: -x[1])\n",
        "    return [paper[0] for paper in rank_list[0:5]]\n",
        "\n",
        "important_articles('Kasaei')"
      ]
    },
    {
      "cell_type": "markdown",
      "metadata": {
        "pycharm": {
          "name": "#%% md\n"
        },
        "id": "a7ei5KEtI3v8"
      },
      "source": [
        "<div dir=\"rtl\">\n",
        "<font face=\"XB Zar\" size=4>\n",
        "    <h1>\n",
        "    <b>جستجو شخصی‌سازی‌شده (۱۰ نمره)</b>\n",
        "    </h1>\n",
        "</font>\n",
        "    <br>\n",
        "<font face=\"XB Zar\" size=3>\n",
        "الگوریتم جست‌و‌جویی که در فازهای گذشته پیاده‌سازی کرده‌اید را به گونه‌ای تغییر دهید که نتایج به دست آمده جست‌و‌جو بر حسب علایق فرد مرتب شوند. از قضیه‌ی خطی بودن برای این کار استفاده کنید.\n",
        "    \n",
        "</font>\n",
        "</div>"
      ]
    },
    {
      "cell_type": "code",
      "execution_count": null,
      "metadata": {
        "pycharm": {
          "name": "#%%\n"
        },
        "id": "WR9ylgFdI3v9"
      },
      "outputs": [],
      "source": [
        "from typing import List, Tuple\n",
        "\n",
        "\n",
        "def search(title_query: str, abstract_query: str, max_result_count: int, method: str = 'ltn-lnn', weight: float = 0.5,\n",
        "           print=False, preferred_field: str = None):\n",
        "    \"\"\"\n",
        "        Finds relevant documents to query\n",
        "\n",
        "        Parameters\n",
        "        ---------------------------------------------------------------------------------------------------\n",
        "        max_result_count: Return top 'max_result_count' docs which have the highest scores.\n",
        "                          notice that if max_result_count = -1, then you have to return all docs\n",
        "\n",
        "        mode: 'detailed' for searching in title and text separately.\n",
        "              'overall' for all words, and weighted by where the word appears on.\n",
        "\n",
        "        where: when mode ='detailed', when we want search query\n",
        "                in title or text not both of them at the same time.\n",
        "\n",
        "        method: 'ltn-lnn' or 'ltc-lnc' or 'okapi25'\n",
        "\n",
        "        preferred_field: A list containing preference rate to Dr. Rabiee, Dr. Soleymani, Dr. Rohban,\n",
        "                         Dr. Kasaei, and Dr. Sharifi's papers, respectively.\n",
        "\n",
        "        Returns\n",
        "        ----------------------------------------------------------------------------------------------------\n",
        "        list\n",
        "        Retrieved documents with snippet\n",
        "    \"\"\"\n",
        "    # TODO: return top 'max_result_count' documents for your searched query\n",
        "    result = [\"a72d6bd0b6d9b7aee66e91253bc6c6de37fa4e6a\"]\n",
        "\n",
        "    return result\n"
      ]
    },
    {
      "cell_type": "markdown",
      "metadata": {
        "pycharm": {
          "name": "#%% md\n"
        },
        "id": "1Ddod28oI3v-"
      },
      "source": [
        "<div dir=\"rtl\" style=\"text-align: justify\">\n",
        "<font face=\"XB Zar\" size=4>\n",
        "    <h1>\n",
        "    <b>رتبه‌بندی نویسندگان (۲۵ نمره)</b>\n",
        "    </h1>\n",
        "</font>\n",
        "    <br>\n",
        "<font face=\"XB Zar\" size=3>  \n",
        "    برای رتبه‌بندی نویسندگان، مفهوم ارجاع نویسندگان به یکدیگر مطرح می‌شود. زمانی که نویسنده A در مقاله خود به مقاله P که نویسنده B جزو نویسندگان آن مقاله یعنی مقاله P می‌باشد، ارجاع دهد، می‌گوییم که نویسنده A به نویسنده B ارجاع داده است. با توجه به این رابطه، می‌توان گراف ارجاعات بین نویسندگان را ایجاد و سپس با استفاده از الگوریتم HITS\n",
        "نویسندگان را رتبه‌بندی کرد. برای رتبه‌بندی نیاز است تا از شاخص‌های hub و authority استفاده کنیم.\n",
        "\n",
        "\n",
        "</font>\n",
        "</div>"
      ]
    },
    {
      "cell_type": "code",
      "execution_count": 14,
      "metadata": {
        "pycharm": {
          "name": "#%%\n"
        },
        "colab": {
          "base_uri": "https://localhost:8080/"
        },
        "id": "SWC3eYwLI3v_",
        "outputId": "0d483e4d-840f-4991-8ee0-463352937130"
      },
      "outputs": [
        {
          "output_type": "stream",
          "name": "stdout",
          "text": [
            "['M. Felsberg', 'M. Kristan']\n"
          ]
        }
      ],
      "source": [
        "import networkx as nx\n",
        "\n",
        "\n",
        "def hit_algorithm(papers, n):\n",
        "    \"\"\"\n",
        "        Implementing the HITS algorithm to score authors based on their papers and co-authors.\n",
        "\n",
        "        Parameters\n",
        "        ---------------------------------------------------------------------------------------------------\n",
        "        papers: A list of paper dictionaries with the following keys:\n",
        "                \"id\": A unique ID for the paper\n",
        "                \"title\": The title of the paper\n",
        "                \"abstract\": The abstract of the paper\n",
        "                \"date\": The year in which the paper was published\n",
        "                \"authors\": A list of the names of the authors of the paper\n",
        "                \"related_topics\": A list of IDs for related topics (optional)\n",
        "                \"citation_count\": The number of times the paper has been cited (optional)\n",
        "                \"reference_count\": The number of references in the paper (optional)\n",
        "                \"references\": A list of IDs for papers that are cited in the paper (optional)\n",
        "        n: An integer representing the number of top authors to return.\n",
        "\n",
        "        Returns\n",
        "        ---------------------------------------------------------------------------------------------------\n",
        "        List\n",
        "        list of the top n authors based on their hub scores.\n",
        "    \"\"\"\n",
        "    # Create a graph of authors and papers (all of the authors and papers represented as nodes, and all of the authors who wrote each paper connected to the corresponding paper node by an edge)\n",
        "    papers = {paper['title']: paper for paper in papers}\n",
        "    G = nx.DiGraph()\n",
        "    for paper in papers.values():\n",
        "      for reference in [reference for reference in paper['references'] if reference in papers]:\n",
        "        for paper_author in paper['authors']:\n",
        "          if paper_author not in G:\n",
        "            G.add_node(paper_author)\n",
        "          for reference_author in papers[reference]['authors']:\n",
        "            if reference_author not in G:\n",
        "              G.add_node(reference_author)\n",
        "            G.add_edge(paper_author, reference_author)\n",
        "\n",
        "    # Run the HITS algorithm\n",
        "    hubs, authorities = nx.hits(G)\n",
        "\n",
        "    # Create a list of top n authors based on their hub scores\n",
        "    top_authors = [(author, score) for author, score in hubs.items()]\n",
        "    top_authors.sort(key=lambda x: -x[1])\n",
        "    return [author for author, score in top_authors[0:n]]\n",
        "\n",
        "\n",
        "# call the hit_algorithm function\n",
        "top_authors = hit_algorithm(load(open(f'crawled_paper_Kasaei.txt')), 2)\n",
        "\n",
        "# print the top authors\n",
        "print(top_authors)\n"
      ]
    },
    {
      "cell_type": "markdown",
      "metadata": {
        "pycharm": {
          "name": "#%% md\n"
        },
        "id": "E-X8yawjI3wA"
      },
      "source": [
        "<div dir=\"rtl\">\n",
        "<font face=\"XB Zar\" size=4>\n",
        "    <h1>\n",
        "    <b>سیستم پیشنهادگر (۲۰ نمره)</b>\n",
        "    </h1>\n",
        "</font>\n",
        "<font face=\"XB Zar\" size=3>\n",
        "\n",
        "در این بخش سعی می‌کنیم که یک سیستم پیشنهادگر مقالات بر اساس جست‌و‌جو‌ها یا علايق یک کاربر پیاده‌سازی کنیم، سیستم پیشنهاد دهنده‌ای که قصد داریم آن را ایجاد کنیم،‌ باید بتواند بر اساس لیستی از مقالاتی که کاربر قبلا آن‌ها را مطالعه کرده یا به آن‌ها علاقه داشته است، مقالات تازه انتشار یافته‌‌ی جدید را به کاربر پیشنهاد دهد.\n",
        "\n",
        "در فایل recommended_papers.json\n",
        "لیستی از کاربران قرار دارد که در فیلد positive_papers هر کاربر،\n",
        "تعداد ۵۰ مقاله از مقالاتی که کاربر به آن‌ها علاقه داشته است مشخص شده است. و همچینین در فیلد recommendedPapers هر کاربر تعداد ۱۰ مقاله به ترتیب اهمیت، از مقالات جدیدی که کاربر آن‌ها را پسندیده است قرار دارد.\n",
        "\n",
        "در این بخش هدف شما یادگیری سیستم پیشنهاد‌ دهنده بر اساس همین داده‌ها می‌باشد، و به عبارتی شما بایستی کاربر‌ها را به دو دسته آموزش و آزمایش تقسیم کنید، و بر اساس داده‌های آموزشی بتوانید مقالات جدید مورد پسند کاربرهای آزمایش را پیش‌بینی کنید. (بنابراین در این پیش‌بینی نمی‌توانید از فیلد recommendedPapers این کاربران استفاده کنید.)\n",
        "\n",
        "</font>\n",
        "</div>"
      ]
    },
    {
      "cell_type": "code",
      "execution_count": null,
      "metadata": {
        "pycharm": {
          "name": "#%%\n"
        },
        "id": "yRkDHpNMI3wB"
      },
      "outputs": [],
      "source": [
        "import json\n",
        "\n",
        "with open('recommended_papers.json', 'r') as fp:\n",
        "    recommended_papers = json.load(fp)"
      ]
    },
    {
      "cell_type": "code",
      "execution_count": null,
      "metadata": {
        "pycharm": {
          "name": "#%%\n"
        },
        "id": "FMk0C_KtI3wC"
      },
      "outputs": [],
      "source": [
        "sample_user = recommended_papers[0]"
      ]
    },
    {
      "cell_type": "code",
      "execution_count": null,
      "metadata": {
        "pycharm": {
          "name": "#%%\n"
        },
        "id": "wbYaRcA_I3wC",
        "outputId": "ac6a7355-9935-4e22-ce87-30452e728fba"
      },
      "outputs": [
        {
          "name": "stdout",
          "output_type": "stream",
          "text": [
            "d9404b4a794c07b5e2cdf3203aabf06d70c6be9b\n",
            "CENTAURO: A Hybrid Locomotion and High Power Resilient Manipulation Platform\n",
            "Despite the development of a large number of mobile manipulation robots, very few platforms can demonstrate the required strength and mechanical sturdiness to accommodate the needs of real-world applications with high payload and moderate/harsh physical interaction demands, e.g., in disaster-response scenarios or heavy logistics/collaborative tasks. In this letter, we introduce the design of a wheeled-legged mobile manipulation platform capable of executing demanding manipulation tasks, and demonstrating significant physical resilience while possessing a body size (height/width) and weight compatible to that of a human. The achieved performance is the result of combining a number of design and implementation principles related to the actuation system, the integration of body structure and actuation, and the wheeled-legged mobility concept. These design principles are discussed, and the solutions adopted for various robot components are detailed. Finally, the robot performance is demonstrated in a set of experiments validating its power and strength capability when manipulating heavy payload and executing tasks involving high impact physical interactions.\n",
            "['Computer Science']\n"
          ]
        }
      ],
      "source": [
        "print(sample_user['positive_papers'][0]['paperId'])\n",
        "print(sample_user['positive_papers'][0]['title'])\n",
        "print(sample_user['positive_papers'][0]['abstract'])\n",
        "print(sample_user['positive_papers'][0]['fieldsOfStudy'])"
      ]
    },
    {
      "cell_type": "code",
      "execution_count": null,
      "metadata": {
        "pycharm": {
          "name": "#%%\n"
        },
        "id": "RaeruG9aI3wE",
        "outputId": "b1ba4e6e-95a4-4e4c-da3e-04aec3bf427b"
      },
      "outputs": [
        {
          "name": "stdout",
          "output_type": "stream",
          "text": [
            "94eebbefe8a37cf394be899b85af295c2e3a1f01\n",
            "Efficient Parametric Approximations of Neural Network Function Space Distance\n",
            "It is often useful to compactly summarize important properties of model parameters and training data so that they can be used later without storing and/or iterating over the entire dataset. As a specific case, we consider estimating the Function Space Distance (FSD) over a training set, i.e. the average discrepancy between the outputs of two neural networks. We propose a Linearized Activation Function TRick (LAFTR) and derive an efficient approximation to FSD for ReLU neural networks. The key idea is to approximate the architecture as a linear network with stochastic gating. Despite requiring only one parameter per unit of the network, our approach outcompetes other parametric approximations with larger memory requirements. Applied to continual learning, our parametric approximation is competitive with state-of-the-art nonparametric approximations, which require storing many training examples. Furthermore, we show its efficacy in estimating influence functions accurately and detecting mislabeled examples without expensive iterations over the entire dataset.\n",
            "['Computer Science', 'Mathematics']\n"
          ]
        }
      ],
      "source": [
        "print(sample_user['recommendedPapers'][0]['paperId'])\n",
        "print(sample_user['recommendedPapers'][0]['title'])\n",
        "print(sample_user['recommendedPapers'][0]['abstract'])\n",
        "print(sample_user['recommendedPapers'][0]['fieldsOfStudy'])"
      ]
    },
    {
      "cell_type": "markdown",
      "metadata": {
        "pycharm": {
          "name": "#%% md\n"
        },
        "id": "6TfX4pe6I3wF"
      },
      "source": [
        "<div dir=\"rtl\">\n",
        "<font face=\"XB Zar\" size=4>\n",
        "    <h2>\n",
        "    <b>روش Collaborative Filtering (۱۰ نمره)</b>\n",
        "    </h2>\n",
        "</font>\n",
        "<font face=\"XB Zar\" size=3>\n",
        "\n",
        "در این راهکار سعی می‌کنیم با استفاده از کاربران مشابه با یک کاربر، سلیقه‌ی او را حدس بزنیم و مقالاتی را که کاربران مشابه دیده‌اند را به کاربر نمایش دهیم.\n",
        "\n",
        "در این روش ابتدا باید $N$ کاربر که سلیقه‌ی مشابه با کاربر $x$ دارند را پیدا کنید، و با ترکیب لیست مقالات جدید مورد علاقه‌ی آن $N$ کاربر مشابه،\n",
        " ۱۰ مقاله‌ به کاربر $x$ پیشنهاد دهید.\n",
        "\n",
        "توجه داشته باشید که برای اینکه شباهت دو کاربر را پیدا کنید، باید cosine_similarity بین بردار زمینه‌های مورد علاقه‌ی دو کاربر استفاده کنید. این بردار از $M$ درایه تشکیل شده است، که $M$ تعداد زمینه‌های یکتاییست که در داده‌ها وجود دارد. و در این بردار درایه‌ی $j$ام\n",
        "نشان دهنده‌ی نسبت تعداد مقالات خوانده‌ی شده‌ کاربر در زمینه‌ی $j$ به تعداد کل مقاله‌های خوانده شده توسط او می‌باشد. (توجه کنید که هر مقاله می‌تواند چند زمینه داشته باشد و بنابراین حاصل جمع درایه‌های این بردار الزاما یک نمی‌باشد)\n",
        "\n",
        "</font>\n",
        "</div>"
      ]
    },
    {
      "cell_type": "code",
      "source": [
        "users = load(open('recommended_papers.json'))\n",
        "\n",
        "# extract all fields\n",
        "fields = dict()\n",
        "inverse_fields = dict()\n",
        "for user in users:\n",
        "  for paper in user['positive_papers']:\n",
        "    if paper['fieldsOfStudy']:\n",
        "      for field in paper['fieldsOfStudy']:\n",
        "        if not field in fields:\n",
        "          fields[field] = len(fields)\n",
        "          inverse_fields[len(fields) - 1] = field\n",
        "\n",
        "\n",
        "# compute normalized adj matrix between user and field\n",
        "adj = np.zeros((len(users), len(fields)))\n",
        "for i, user in enumerate(users):\n",
        "  for paper in user['positive_papers']:\n",
        "    if paper['fieldsOfStudy']:\n",
        "      adj[i, [fields[field] for field in paper['fieldsOfStudy']]] += 1\n",
        "  adj[i] /= len(user['positive_papers'])\n",
        "\n",
        "# split into train and test\n",
        "adj_train = adj[0:int(0.8 * len(adj))]\n",
        "adj_test = adj[int(0.8 * len(adj)):]"
      ],
      "metadata": {
        "id": "khJ2I86mWytS"
      },
      "execution_count": 123,
      "outputs": []
    },
    {
      "cell_type": "code",
      "execution_count": 124,
      "metadata": {
        "pycharm": {
          "name": "#%%\n"
        },
        "id": "fX3p6r62I3wF"
      },
      "outputs": [],
      "source": [
        "def collaborative_filtering(user_id: int, N=10):\n",
        "    \"\"\"\n",
        "    Returns the top 10 related articles to the user, based on similar users (Similar users should be on \"train data\").\n",
        "\n",
        "    Parameters:\n",
        "    user_id (int): The unique index of the user.\n",
        "    N: The number of hyperparameter N in Nearest Neighbor algorithm.\n",
        "\n",
        "    Returns:\n",
        "    List[str]: A list of 10 article IDs that are most relevant to the user's interests.\n",
        "    \"\"\"\n",
        "    # ensure the id is in the training set\n",
        "    assert(user_id >= 0.8 * len(adj))\n",
        "\n",
        "    # compute cosine similiarity between test user and training data\n",
        "    similiarities = (adj_test[user_id - len(adj_train)] * adj_train).sum(axis=1) / np.sqrt((adj_train ** 2).sum(axis=1))\n",
        "\n",
        "    # get top N similar users\n",
        "    topn_indices = np.argsort(similiarities)[::-1][:N]\n",
        "\n",
        "    # gather all the papers with frequencies\n",
        "    papers = dict()\n",
        "    for index in topn_indices:\n",
        "      for paper in users[index]['recommendedPapers']:\n",
        "        papers[paper['paperId']] = papers.get(paper['paperId'], 0) + 1\n",
        "\n",
        "    # sort the papers based on frequency and return top 10\n",
        "    papers = [(paper, frequency) for paper, frequency in papers.items()]\n",
        "    papers.sort(key=lambda x: -x[1])\n",
        "    return [paper[0] for paper in papers[:10]]"
      ]
    },
    {
      "cell_type": "code",
      "source": [
        "collaborative_filtering(int(0.8 * len(adj)))"
      ],
      "metadata": {
        "colab": {
          "base_uri": "https://localhost:8080/"
        },
        "id": "BL9QCa_IhAbU",
        "outputId": "daad3f7e-1450-4a8a-c22f-a167d25c0615"
      },
      "execution_count": 125,
      "outputs": [
        {
          "output_type": "execute_result",
          "data": {
            "text/plain": [
              "['ba852c774c00894376bc20cdccb884b0dbe1196b',\n",
              " '2714c11c0809d638e1e501831913671914407e5d',\n",
              " '590b8f5e17424d1d4be560a0d2b1c665d8d3c7f8',\n",
              " '5cbadc7545b5296a8b245be20c78f8b9b628973c',\n",
              " '33320785835ba8cdd717cb8d043e99e942e0b491',\n",
              " '908bdaa3588ac073d06b4452ffd5fce7bd9af042',\n",
              " '3256e193a308e451c7107e51bb96c3e9b5bb6ae3',\n",
              " '15b3523eecb9a4035324662bbb77d7d8b7185d5b',\n",
              " '66fa8acfbf6dc1022d5aa2ee43fad20cda231f98',\n",
              " 'fbb4110c5c1940dbaebb60234a633448684f1b5b']"
            ]
          },
          "metadata": {},
          "execution_count": 125
        }
      ]
    },
    {
      "cell_type": "markdown",
      "metadata": {
        "pycharm": {
          "name": "#%% md\n"
        },
        "id": "j5ihq2BMI3wG"
      },
      "source": [
        "<div dir=\"rtl\">\n",
        "<font face=\"XB Zar\" size=4>\n",
        "    <h2>\n",
        "    <b>روش Content Based (۱۰ نمره)</b>\n",
        "    </h2>\n",
        "</font>\n",
        "<font face=\"XB Zar\" size=3>\n",
        "\n",
        "در این روش با استفاده از مقالات قبلی که کاربر آن‌ها را پسندیده است، به کاربر مقاله‌ی جدید پیشنهاد می‌دهیم.\n",
        "\n",
        "برای اینکار ابتدا تمام مقالات پیشنهاد شده برای تمام کاربرها را سر جمع کنید. (در واقع مدلی که پیاده‌سازی می‌کنید نباید بداند که به کدام کاربر چه مقالاتی پیشنهاد شده است)\n",
        "\n",
        "سپس بردار tf-idf برای تایتل هر یک از مقالات را ایجاد کنید، و میانگین بردار مقالات مورد علاقه‌ی هر فرد را با لیستی که از مقالات جدید سر جمع کردید مقایسه کنید و ۱۰ تا از شبیه‌ترین مقالات را خروجی دهید.\n",
        "\n",
        "</font>\n",
        "</div>"
      ]
    },
    {
      "cell_type": "code",
      "source": [
        "from sklearn.feature_extraction.text import TfidfVectorizer"
      ],
      "metadata": {
        "id": "QTLFgWn-lMif"
      },
      "execution_count": 59,
      "outputs": []
    },
    {
      "cell_type": "code",
      "source": [
        "# extract titles\n",
        "recommended_titles = dict()\n",
        "paper_titles = dict()\n",
        "inverse_paper_titles = dict()\n",
        "for user in users:\n",
        "  for paper in user['positive_papers'] + user['recommendedPapers']:\n",
        "    paper_titles[paper['title']] = paper_titles.get(paper['title'], len(paper_titles))\n",
        "    inverse_paper_titles[paper_titles[paper['title']]] = paper['title']\n",
        "  for paper in user['recommendedPapers']:\n",
        "    recommended_titles[paper['title']] = paper['paperId']\n",
        "\n",
        "# compute the tf-idf matrix\n",
        "titles = ['' for _ in range(len(paper_titles))]\n",
        "for title, index in paper_titles.items():\n",
        "  titles[index] = title\n",
        "vectorizer = TfidfVectorizer()\n",
        "tfidf_matrix = vectorizer.fit_transform(titles).toarray()"
      ],
      "metadata": {
        "id": "YaB6Gp9qi6rJ"
      },
      "execution_count": 128,
      "outputs": []
    },
    {
      "cell_type": "code",
      "execution_count": 131,
      "metadata": {
        "pycharm": {
          "name": "#%%\n"
        },
        "id": "_ShWPO7tI3wG"
      },
      "outputs": [],
      "source": [
        "def content_based_recommendation(user_id):\n",
        "    \"\"\"\n",
        "    Returns the top 10 related articles to the user, based on the titles of the articles.\n",
        "\n",
        "    Parameters:\n",
        "    user_id (int): The unique index of the user.\n",
        "\n",
        "    Returns:\n",
        "    List[str]: A list of 10 article IDs that are most relevant to the user's interests.\n",
        "    \"\"\"\n",
        "    # compute mean of user articles\n",
        "    user = users[user_id]\n",
        "    user_paper_mean_score = tfidf_matrix[[paper_titles[paper['title']] for paper in user['positive_papers']]].mean(axis=0)\n",
        "\n",
        "    # compare with all recommended papers\n",
        "    recommended_indices = [paper_titles[title] for title in recommended_titles.keys()]\n",
        "    similiarities =  (tfidf_matrix[recommended_indices] * user_paper_mean_score).sum(axis=1) / np.sqrt((tfidf_matrix[recommended_indices] ** 2).sum(axis=1))\n",
        "\n",
        "    # compute top indices\n",
        "    top10 = [recommended_indices[index] for index in similiarities.argsort()[::-1][:10]]\n",
        "\n",
        "    # return corresponding articles\n",
        "    return [recommended_titles[inverse_paper_titles[index]] for index in top10]"
      ]
    },
    {
      "cell_type": "code",
      "source": [
        "content_based_recommendation(1)"
      ],
      "metadata": {
        "colab": {
          "base_uri": "https://localhost:8080/"
        },
        "id": "AqIMLHL4pn0k",
        "outputId": "23446a99-5e65-425a-df60-c0f24cd8bf06"
      },
      "execution_count": 134,
      "outputs": [
        {
          "output_type": "execute_result",
          "data": {
            "text/plain": [
              "['fa98a607a0cc8689f0716ee110a5c6344d4cca44',\n",
              " 'cbe3519785e86efafa3f4f72e7ff1a0b9398529a',\n",
              " '191cbd8198393aebaa15f2c1e4cdf116f9d58cb0',\n",
              " '70583309207f006020e514b7925103944029a1c6',\n",
              " '62f3ecee1135503bb2cab776e915281521ef2f3a',\n",
              " 'fced5009175aea88de723a027e065ee3bc7097e3',\n",
              " 'ee46421f518c17a51145d33a0fe7ccc6da31c51e',\n",
              " '12ffb095891a42dd80625667a3234ded06ffa040',\n",
              " 'c39f3752591181899f680644e8f6ce77cc5a8e3e',\n",
              " '2addac1acf6171599ce23f707064bf1db5ce9d9c']"
            ]
          },
          "metadata": {},
          "execution_count": 134
        }
      ]
    },
    {
      "cell_type": "code",
      "source": [
        "[paper['paperId'] for paper in users[1]['recommendedPapers']]"
      ],
      "metadata": {
        "colab": {
          "base_uri": "https://localhost:8080/"
        },
        "id": "bt6H6BB64l69",
        "outputId": "fa2750da-a515-404c-f5f7-d2c89eed577a"
      },
      "execution_count": 135,
      "outputs": [
        {
          "output_type": "execute_result",
          "data": {
            "text/plain": [
              "['87f95ab94bb19eb7716e0d4bbe0d37ca30f64157',\n",
              " '0dd2dafa9389f83160a63be3fde23b5d121a4786',\n",
              " '3282be1c7cb981e1728863d99406cd53d6c9085b',\n",
              " '355a88ee6967af23512f85f947270cf9d81ea098',\n",
              " 'dd71c525097d93d825b8abf67ce99111de421605',\n",
              " 'b2db53ac752045905063eb497a6a484627b037b1',\n",
              " '94eebbefe8a37cf394be899b85af295c2e3a1f01',\n",
              " '3881ec4fad84887a03aeacdf46cec2e787656e8f',\n",
              " '7bd7539abdc3d696d75213d4011327218f79ce21',\n",
              " '191cbd8198393aebaa15f2c1e4cdf116f9d58cb0']"
            ]
          },
          "metadata": {},
          "execution_count": 135
        }
      ]
    },
    {
      "cell_type": "markdown",
      "metadata": {
        "pycharm": {
          "name": "#%% md\n"
        },
        "id": "x9Uqiay4I3wH"
      },
      "source": [
        "<div dir=\"rtl\">\n",
        "<font face=\"XB Zar\" size=4>\n",
        "    <h2>\n",
        "    <b>ارزیابی سیستم‌های پیشنهادگر</b>\n",
        "    </h2>\n",
        "</font>\n",
        "<font face=\"XB Zar\" size=3>\n",
        "\n",
        "در این بخش سیستم‌های پیشنهادگری را که پیاده کرده‌اید را با استفاده از معیار nDCG و با استفاده از دادگان واقعی از علایق کاربران نسبت به مقالات جدید ارزیابی کنید و نتایج حاصل از دو روش را با هم مقایسه کنید.\n",
        "\n",
        "</font>\n",
        "</div>"
      ]
    },
    {
      "cell_type": "code",
      "source": [
        "from math import log2"
      ],
      "metadata": {
        "id": "O96XFIRe6Ps7"
      },
      "execution_count": 136,
      "outputs": []
    },
    {
      "cell_type": "code",
      "execution_count": 137,
      "metadata": {
        "pycharm": {
          "is_executing": true,
          "name": "#%%\n"
        },
        "id": "Wes-qm6aI3wH"
      },
      "outputs": [],
      "source": [
        "def cacluate_NDCG(actual: List[List[str]], predicted: List[List[str]]) -> float:\n",
        "    \"\"\"\n",
        "    Calculates the Normalized Discounted Cumulative Gain (NDCG) of the predicted results\n",
        "\n",
        "    Parameters\n",
        "    ----------\n",
        "    actual : List[List[str]]\n",
        "        The actual results\n",
        "    predicted : List[List[str]]\n",
        "        The predicted results\n",
        "\n",
        "    Returns\n",
        "    -------\n",
        "    float\n",
        "        The NDCG of the predicted results\n",
        "    \"\"\"\n",
        "    ndcg = 0.0\n",
        "\n",
        "    # TODO: Calculate NDCG here\n",
        "    for i in range(len(predicted)):\n",
        "        for j in range(len(predicted[i])):\n",
        "            ndcg += (actual[i].index(predicted[i][j]) + 1 if predicted[i][j] in actual[i] else 0) / (1 if j == 0 else log2(j + 1))\n",
        "    ndcg /= len(predicted)\n",
        "    return ndcg"
      ]
    },
    {
      "cell_type": "code",
      "source": [
        "cacluate_NDCG([[paper['paperId'] for paper in users[index]['recommendedPapers']] for index in range(int(0.8 * len(adj)), len(adj))],\n",
        "              [collaborative_filtering(index) for index in range(int(0.8 * len(adj)), len(adj))])"
      ],
      "metadata": {
        "colab": {
          "base_uri": "https://localhost:8080/"
        },
        "id": "TmQs63726UMP",
        "outputId": "35cc7ce7-a9c9-49aa-b755-774810ddb6fe"
      },
      "execution_count": 141,
      "outputs": [
        {
          "output_type": "execute_result",
          "data": {
            "text/plain": [
              "8.538096174755594"
            ]
          },
          "metadata": {},
          "execution_count": 141
        }
      ]
    },
    {
      "cell_type": "code",
      "source": [
        "cacluate_NDCG([[paper['paperId'] for paper in users[index]['recommendedPapers']] for index in range(int(0.8 * len(adj)), len(adj))],\n",
        "              [content_based_recommendation(index) for index in range(int(0.8 * len(adj)), len(adj))])"
      ],
      "metadata": {
        "colab": {
          "base_uri": "https://localhost:8080/"
        },
        "id": "gBCd_MoR7fCs",
        "outputId": "20f902b5-4012-4fa0-99e0-ad163b036baa"
      },
      "execution_count": 142,
      "outputs": [
        {
          "output_type": "execute_result",
          "data": {
            "text/plain": [
              "2.866419113521137"
            ]
          },
          "metadata": {},
          "execution_count": 142
        }
      ]
    },
    {
      "cell_type": "markdown",
      "source": [
        "<div dir=\"rtl\" style=\"text-align: justify\">\n",
        "<font face=\"XB Zar\" size=3>\n",
        "روش collaborative filtering عمکرد بهتری دارد.\n",
        "</font>\n",
        "</div>"
      ],
      "metadata": {
        "id": "kzX_FwvV7jsX"
      }
    },
    {
      "cell_type": "markdown",
      "metadata": {
        "pycharm": {
          "name": "#%% md\n"
        },
        "id": "5AXzyV4MI3wH"
      },
      "source": [
        "<div dir=\"rtl\" style=\"text-align: justify\">\n",
        "<font face=\"XB Zar\" size=4>\n",
        "    <h1>\n",
        "    <b>رابط کاربری (تا ۱۰ نمره)</b>\n",
        "    </h1>\n",
        "</font>\n",
        "    <br>\n",
        "<font face=\"XB Zar\" size=3>\n",
        "در این بخش\n",
        " باید یک واسط کاربری ساده برای اجرای تعاملی بخش‌های مختلف سیستم که از فاز ۱ ساخته‌اید و همچنین مشاهده نتایج پیاده‌سازی کنید. در صورت پیاده سازی زیبا و بهتر رابط کاربری تا ده نمره نمره امتیازی نیز در نظر گرفته خواهد شد.\n",
        "</font>\n",
        "</div>"
      ]
    },
    {
      "cell_type": "code",
      "execution_count": null,
      "metadata": {
        "pycharm": {
          "name": "#%%\n"
        },
        "id": "HLcAsoNqI3wI"
      },
      "outputs": [],
      "source": []
    }
  ],
  "metadata": {
    "kernelspec": {
      "display_name": "Python 3",
      "language": "python",
      "name": "python3"
    },
    "language_info": {
      "codemirror_mode": {
        "name": "ipython",
        "version": 3
      },
      "file_extension": ".py",
      "mimetype": "text/x-python",
      "name": "python",
      "nbconvert_exporter": "python",
      "pygments_lexer": "ipython3",
      "version": "3.9.2"
    },
    "vscode": {
      "interpreter": {
        "hash": "08ac30a6a1fd2e576b33e03f7d61c3a285d7ee0582c2dd23dde6343ef303ebe9"
      }
    },
    "colab": {
      "provenance": []
    }
  },
  "nbformat": 4,
  "nbformat_minor": 0
}